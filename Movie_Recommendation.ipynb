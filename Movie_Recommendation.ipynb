{
 "cells": [
  {
   "cell_type": "code",
   "execution_count": 1,
   "metadata": {},
   "outputs": [],
   "source": [
    "import pandas as pd\n",
    "import numpy as np\n",
    "from sklearn.feature_extraction.text import CountVectorizer\n",
    "from sklearn.metrics.pairwise import cosine_similarity"
   ]
  },
  {
   "cell_type": "code",
   "execution_count": 2,
   "metadata": {},
   "outputs": [],
   "source": [
    "#pwd"
   ]
  },
  {
   "cell_type": "code",
   "execution_count": 3,
   "metadata": {},
   "outputs": [
    {
     "name": "stdout",
     "output_type": "stream",
     "text": [
      "C:\\Users\\Vikramaditya\\Downloads\n"
     ]
    }
   ],
   "source": [
    "cd C:\\\\Users\\\\Vikramaditya\\\\Downloads"
   ]
  },
  {
   "cell_type": "code",
   "execution_count": 4,
   "metadata": {},
   "outputs": [],
   "source": [
    "df=pd.read_csv(\"movie_dataset.csv\")"
   ]
  },
  {
   "cell_type": "code",
   "execution_count": 5,
   "metadata": {},
   "outputs": [],
   "source": [
    "#print(df.columns)"
   ]
  },
  {
   "cell_type": "code",
   "execution_count": 6,
   "metadata": {},
   "outputs": [],
   "source": [
    "#print(df['index'].head())"
   ]
  },
  {
   "cell_type": "code",
   "execution_count": 7,
   "metadata": {},
   "outputs": [],
   "source": [
    "#print(df['keywords'].head())"
   ]
  },
  {
   "cell_type": "code",
   "execution_count": 8,
   "metadata": {},
   "outputs": [],
   "source": [
    "features=['keywords','cast','genres','director','popularity']"
   ]
  },
  {
   "cell_type": "code",
   "execution_count": 9,
   "metadata": {},
   "outputs": [],
   "source": [
    "for feature in features:\n",
    "    df[feature]=df[feature].fillna('')"
   ]
  },
  {
   "cell_type": "code",
   "execution_count": 10,
   "metadata": {},
   "outputs": [],
   "source": [
    "def combine_features(row):\n",
    "    try:\n",
    "        return row['keywords'] +\" \"+ row['cast'] +\" \"+ row['genres'] +\" \"+ row['director'] +\" \"+ str(row['popularity'])\n",
    "    except:\n",
    "        print(\"Error:\", row)"
   ]
  },
  {
   "cell_type": "code",
   "execution_count": 11,
   "metadata": {},
   "outputs": [],
   "source": [
    "df['combined_features']= df.apply(combine_features,axis=1)"
   ]
  },
  {
   "cell_type": "code",
   "execution_count": 12,
   "metadata": {},
   "outputs": [],
   "source": [
    "#print(df[features].head())"
   ]
  },
  {
   "cell_type": "code",
   "execution_count": 13,
   "metadata": {},
   "outputs": [],
   "source": [
    "#print(df['combined_features'].head())"
   ]
  },
  {
   "cell_type": "code",
   "execution_count": 14,
   "metadata": {},
   "outputs": [],
   "source": [
    "cv= CountVectorizer()\n",
    "count_matrix=cv.fit_transform(df['combined_features'])\n",
    "#print(count_matrix)"
   ]
  },
  {
   "cell_type": "code",
   "execution_count": 15,
   "metadata": {},
   "outputs": [],
   "source": [
    "cosine_sim=cosine_similarity(count_matrix)"
   ]
  },
  {
   "cell_type": "code",
   "execution_count": 16,
   "metadata": {},
   "outputs": [],
   "source": [
    "#print(cosine_sim)"
   ]
  },
  {
   "cell_type": "code",
   "execution_count": 17,
   "metadata": {},
   "outputs": [],
   "source": [
    "movie_user_likes=\"Iron Man 3\""
   ]
  },
  {
   "cell_type": "code",
   "execution_count": 18,
   "metadata": {},
   "outputs": [],
   "source": [
    "def get_title_from_index(index):\n",
    "    return df[df.index==index][\"title\"].values[0]\n",
    "def get_index_from_title(title):\n",
    "    return df[df.title==title][\"index\"].values[0]"
   ]
  },
  {
   "cell_type": "code",
   "execution_count": 19,
   "metadata": {},
   "outputs": [],
   "source": [
    "movie_index=get_index_from_title(movie_user_likes)"
   ]
  },
  {
   "cell_type": "code",
   "execution_count": 20,
   "metadata": {},
   "outputs": [],
   "source": [
    "similar_movies=list(enumerate(cosine_sim[movie_index]))\n",
    "sorted_similar_movies=sorted(similar_movies,key= lambda x:x[1],reverse=True)\n",
    "#print(sorted_similar_movies)"
   ]
  },
  {
   "cell_type": "code",
   "execution_count": 21,
   "metadata": {},
   "outputs": [
    {
     "name": "stdout",
     "output_type": "stream",
     "text": [
      "Iron Man 3\n",
      "Iron Man 2\n",
      "Iron Man\n",
      "Captain America: Civil War\n",
      "Avengers: Age of Ultron\n",
      "The Avengers\n",
      "X-Men\n",
      "X-Men: The Last Stand\n",
      "Ant-Man\n",
      "X2\n",
      "X-Men: Days of Future Past\n",
      "Captain America: The Winter Soldier\n",
      "Lions for Lambs\n",
      "Sherlock Holmes\n",
      "The Incredible Hulk\n",
      "The Wolverine\n",
      "The Helix... Loaded\n",
      "Captain America: The First Avenger\n",
      "Sky Captain and the World of Tomorrow\n",
      "The Time Machine\n",
      "X-Men: First Class\n",
      "X-Men Origins: Wolverine\n",
      "Sherlock Holmes: A Game of Shadows\n",
      "Fantastic Four\n",
      "Kiss Kiss Bang Bang\n",
      "The Black Hole\n",
      "A Scanner Darkly\n",
      "Guardians of the Galaxy\n",
      "Damnation Alley\n",
      "The Amazing Spider-Man 2\n",
      "X-Men: Apocalypse\n",
      "Beastmaster 2: Through the Portal of Time\n",
      "Man of Steel\n",
      "Thor: The Dark World\n",
      "Deadpool\n",
      "Superman II\n",
      "Predator 2\n",
      "Force 10 from Navarone\n",
      "The Iron Giant\n",
      "Spawn\n",
      "G.I. Joe: Retaliation\n",
      "Steel\n",
      "Red Sonja\n",
      "G.I. Joe: The Rise of Cobra\n",
      "Transformers\n",
      "Prometheus\n",
      "Underworld: Rise of the Lycans\n",
      "Teenage Mutant Ninja Turtles\n",
      "Insurgent\n",
      "Allegiant\n",
      "Volcano\n",
      "Battlefield Earth\n",
      "Lockout\n",
      "Back to the Future\n",
      "The Ice Pirates\n",
      "Star Wars: Clone Wars: Volume 1\n",
      "John Carter\n",
      "The Hunger Games: Catching Fire\n",
      "Ender's Game\n",
      "Divergent\n",
      "Timeline\n",
      "The Man from U.N.C.L.E.\n",
      "Spy Kids 3-D: Game Over\n",
      "Sin City\n",
      "Wild Wild West\n",
      "Street Fighter: The Legend of Chun-Li\n",
      "9\n",
      "RoboCop 3\n",
      "Das Boot\n",
      "Avatar\n",
      "Tropic Thunder\n",
      "The Spirit\n",
      "The Host\n",
      "Sheena\n",
      "United 93\n",
      "The Marine\n",
      "The Lovers\n",
      "Legend of a Rabbit\n",
      "Watchmen\n",
      "Aliens in the Attic\n",
      "Star Trek: Generations\n",
      "Wing Commander\n",
      "Red Tails\n",
      "Journey to Saturn\n",
      "Six-String Samurai\n",
      "Delgo\n",
      "Timecop\n",
      "The Great Raid\n",
      "Star Trek Into Darkness\n",
      "Independence Day: Resurgence\n",
      "After Earth\n",
      "Rollerball\n",
      "Lucky You\n",
      "The Road\n",
      "Witless Protection\n",
      "Love Me Tender\n",
      "Transformers: Revenge of the Fallen\n",
      "Star Trek Beyond\n",
      "Star Wars: Episode I - The Phantom Menace\n",
      "Independence Day\n"
     ]
    }
   ],
   "source": [
    "k=0\n",
    "for movie in sorted_similar_movies:\n",
    "    print(get_title_from_index(movie[0]))\n",
    "    k=k+1\n",
    "    if k==100:\n",
    "        break"
   ]
  },
  {
   "cell_type": "code",
   "execution_count": null,
   "metadata": {},
   "outputs": [],
   "source": []
  }
 ],
 "metadata": {
  "kernelspec": {
   "display_name": "Python 3",
   "language": "python",
   "name": "python3"
  },
  "language_info": {
   "codemirror_mode": {
    "name": "ipython",
    "version": 3
   },
   "file_extension": ".py",
   "mimetype": "text/x-python",
   "name": "python",
   "nbconvert_exporter": "python",
   "pygments_lexer": "ipython3",
   "version": "3.6.5"
  }
 },
 "nbformat": 4,
 "nbformat_minor": 2
}
